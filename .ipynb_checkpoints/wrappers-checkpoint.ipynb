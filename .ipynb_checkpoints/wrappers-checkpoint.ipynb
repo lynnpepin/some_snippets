{
 "cells": [
  {
   "cell_type": "markdown",
   "metadata": {},
   "source": [
    "I want to experiment with wrappers here and then write down the snippets. Specifically, I am going to do wrappers that:\n",
    "\n",
    "1. Time a function\n",
    "\n",
    "2. Sleep so that a function roughly takes (at least) a total amount of time."
   ]
  },
  {
   "cell_type": "code",
   "execution_count": 1,
   "metadata": {},
   "outputs": [
    {
     "name": "stdout",
     "output_type": "stream",
     "text": [
      "3.7.5 (default, Oct 25 2019, 15:51:11) \n",
      "[GCC 7.3.0]\n"
     ]
    }
   ],
   "source": [
    "import sys\n",
    "import time\n",
    "import random\n",
    "import numpy as np\n",
    "print(sys.version)"
   ]
  },
  {
   "cell_type": "code",
   "execution_count": 2,
   "metadata": {},
   "outputs": [],
   "source": [
    "# Let us define a simple function to play with\n",
    "\n",
    "def random_walk(n):\n",
    "    # a random walk with n steps\n",
    "    s = 0\n",
    "    for __ in range(n):\n",
    "        s += (random.random() -.5)*2\n",
    "    \n",
    "    return s"
   ]
  },
  {
   "cell_type": "markdown",
   "metadata": {},
   "source": [
    "# 1. Example: Identity decorator.\n",
    "\n",
    "A decorator is a function that takes another function as an input, and returns a \"decorated\" version of that function.\n",
    "\n",
    "Here is an example of an 'identity' decorator that does not modify the function at all. You can use this as a starting point for other decorated functions."
   ]
  },
  {
   "cell_type": "code",
   "execution_count": 3,
   "metadata": {},
   "outputs": [],
   "source": [
    "def identity_decorator(func):\n",
    "    def wrapped_function(*args, **kwargs):\n",
    "        # code goes here\n",
    "        result = func(*args, **kwargs)\n",
    "        # code goes here\n",
    "        \n",
    "        # then, return the result from the decorated function\n",
    "        return result\n",
    "    \n",
    "    return wrapped_function"
   ]
  },
  {
   "cell_type": "markdown",
   "metadata": {},
   "source": [
    "## 1.1. Calling a decorator\n",
    "\n",
    "Python offers syntactic sugar, a 'decorator', to wrap functions. Here are two ways to wrap a function:\n",
    "\n",
    "### Using a decorator without the ✨️syntactic sugar✨️"
   ]
  },
  {
   "cell_type": "code",
   "execution_count": 4,
   "metadata": {},
   "outputs": [
    {
     "name": "stdout",
     "output_type": "stream",
     "text": [
      "1.7909741041944167\n"
     ]
    }
   ],
   "source": [
    "random_walked_wrapped_by_identity = identity_decorator(random_walk)\n",
    "\n",
    "print(random_walked_wrapped_by_identity(100))"
   ]
  },
  {
   "cell_type": "markdown",
   "metadata": {},
   "source": [
    "### Using a decorator with the ✨️syntactic sugar✨️\n",
    "\n",
    "This will **re-define** `random_walk` to be `identity_wrapper(random_walk)` in our scope!"
   ]
  },
  {
   "cell_type": "code",
   "execution_count": 5,
   "metadata": {},
   "outputs": [],
   "source": [
    "@identity_decorator\n",
    "def random_walk(n):\n",
    "    # a random walk with n steps\n",
    "    s = 0\n",
    "    for __ in range(n):\n",
    "        s += (random.random() -.5)*2\n",
    "    \n",
    "    return s\n",
    "\n",
    "# this re-defines "
   ]
  },
  {
   "cell_type": "markdown",
   "metadata": {},
   "source": [
    "# 2. Example: Time-it function\n",
    "\n",
    "Let us re-define `random_walk`, as `random_walk_timed`, using a new decorator. We time the start and the end of the function, and return the duration alongside the result from the function."
   ]
  },
  {
   "cell_type": "code",
   "execution_count": 8,
   "metadata": {},
   "outputs": [],
   "source": [
    "def timerwrapper(func):\n",
    "    def timedfunc(*args, **kwargs):\n",
    "        start_time = time.time()\n",
    "        result = func(*args, **kwargs)\n",
    "        end_time = time.time()\n",
    "        \n",
    "        duration = end_time - start_time\n",
    "        return result, duration\n",
    "    \n",
    "    return timedfunc\n",
    "    #duration = end_time - start_time\n",
    "    #print(f\"{func.__name__} done in {duration:.2f} seconds\")"
   ]
  },
  {
   "cell_type": "code",
   "execution_count": 9,
   "metadata": {},
   "outputs": [],
   "source": [
    "@timerwrapper\n",
    "def random_walk_timed(n):\n",
    "    # a random walk with n steps\n",
    "    s = 0\n",
    "    for __ in range(n):\n",
    "        s += (random.random() -.5)*2\n",
    "    \n",
    "    return s"
   ]
  },
  {
   "cell_type": "code",
   "execution_count": 10,
   "metadata": {},
   "outputs": [
    {
     "name": "stdout",
     "output_type": "stream",
     "text": [
      "Result is 1535.27, done in 1.15 s.\n"
     ]
    }
   ],
   "source": [
    "walk_result, runtime = random_walk_timed(10_000_000)\n",
    "\n",
    "print(f\"Result is {walk_result:.2f}, done in {runtime:.2f} s.\")  # Note: .2f rounds to 2 decimals\n",
    "        "
   ]
  },
  {
   "cell_type": "markdown",
   "metadata": {},
   "source": [
    "# 3. Example: User-prompt function\n",
    "\n",
    "Say we don't want a function to run until a user explicitly okays it. We'll write a function that asks for user input before running."
   ]
  },
  {
   "cell_type": "code",
   "execution_count": 11,
   "metadata": {},
   "outputs": [],
   "source": [
    "def prompt_before_run(func):\n",
    "    def prompted(*args, **kwargs):\n",
    "        while True:\n",
    "            user_input = input(f\"Do you want to run {func.__name__}? (yes/no/args/help)\")\n",
    "\n",
    "            if user_input.lower() == 'yes':\n",
    "                return func(*args, **kwargs)\n",
    "            elif user_input.lower() == 'no':\n",
    "                return None\n",
    "            elif user_input.lower() == 'args':\n",
    "                print(\"Printing arguments for this function...\")\n",
    "                print(args)\n",
    "                print(kwargs)\n",
    "                print(\"... done!\")\n",
    "            elif user_input.lower() == 'help':\n",
    "                print(\"Type a command and press Enter:\")\n",
    "                print(\"  'yes'  : Run this function\")\n",
    "                print(\"  'no'   : Do not run this function\")\n",
    "                print(\"  'args' : Print the arguments and then ask again before running\")\n",
    "                print(\"  'help' : Display this menu\")\n",
    "    \n",
    "    return prompted"
   ]
  },
  {
   "cell_type": "code",
   "execution_count": 12,
   "metadata": {},
   "outputs": [],
   "source": [
    "# now let's try it out!\n",
    "\n",
    "@prompt_before_run\n",
    "def prompted_walk_timed(n):\n",
    "    # a random walk with n steps\n",
    "    s = 0\n",
    "    for __ in range(n):\n",
    "        s += (random.random() -.5)*2\n",
    "    \n",
    "    return s"
   ]
  },
  {
   "cell_type": "code",
   "execution_count": 13,
   "metadata": {},
   "outputs": [
    {
     "name": "stdin",
     "output_type": "stream",
     "text": [
      "Do you want to run prompted_walk_timed? (yes/no/args/help) args\n"
     ]
    },
    {
     "name": "stdout",
     "output_type": "stream",
     "text": [
      "Printing arguments for this function...\n",
      "(1000,)\n",
      "{}\n",
      "... done!\n"
     ]
    },
    {
     "name": "stdin",
     "output_type": "stream",
     "text": [
      "Do you want to run prompted_walk_timed? (yes/no/args/help) yes\n"
     ]
    },
    {
     "data": {
      "text/plain": [
       "-14.4792804937228"
      ]
     },
     "execution_count": 13,
     "metadata": {},
     "output_type": "execute_result"
    }
   ],
   "source": [
    "prompted_walk_timed(1000)"
   ]
  },
  {
   "cell_type": "code",
   "execution_count": 14,
   "metadata": {},
   "outputs": [
    {
     "name": "stdin",
     "output_type": "stream",
     "text": [
      "Do you want to run prompted_walk_timed? (yes/no/args/help) args\n"
     ]
    },
    {
     "name": "stdout",
     "output_type": "stream",
     "text": [
      "Printing arguments for this function...\n",
      "(1000000000000000000000000000000,)\n",
      "{}\n",
      "... done!\n"
     ]
    },
    {
     "name": "stdin",
     "output_type": "stream",
     "text": [
      "Do you want to run prompted_walk_timed? (yes/no/args/help) oh wow this will take a really long time to run\n",
      "Do you want to run prompted_walk_timed? (yes/no/args/help) no\n"
     ]
    }
   ],
   "source": [
    "prompted_walk_timed(10**30)"
   ]
  },
  {
   "cell_type": "code",
   "execution_count": null,
   "metadata": {},
   "outputs": [],
   "source": []
  }
 ],
 "metadata": {
  "kernelspec": {
   "display_name": "Python 3",
   "language": "python",
   "name": "python3"
  },
  "language_info": {
   "codemirror_mode": {
    "name": "ipython",
    "version": 3
   },
   "file_extension": ".py",
   "mimetype": "text/x-python",
   "name": "python",
   "nbconvert_exporter": "python",
   "pygments_lexer": "ipython3",
   "version": "3.7.5"
  }
 },
 "nbformat": 4,
 "nbformat_minor": 4
}
