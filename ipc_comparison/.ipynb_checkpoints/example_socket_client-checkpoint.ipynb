{
 "cells": [
  {
   "cell_type": "markdown",
   "metadata": {},
   "source": [
    "# Example Socket Client: Addition calculator\n",
    "\n",
    "We will implement an extremely simple calculator. See the `example_socket_server.ipynb` notebook for the server! **Most of the explanation and documentation is in the server.**\n",
    "\n",
    "For convenience, we repeat the steps here:\n",
    "\n",
    "| Step | Server | Client |\n",
    "| -  | - | - |\n",
    "|  1 | Create server socket with `socket()` |  |\n",
    "|  2 | Bind server socket to address with `bind()` |  |\n",
    "|  3 | Enter listening state with `listen()` | Create client socket with `socket()` |\n",
    "|  4 |  | Connect to server with `connect()` |\n",
    "|  5 | Accept connection with `accept()` | |\n",
    "|  6 | | Send integer with `send` e.g. `7`| \n",
    "|  7 | Receive integer with `recv` | |\n",
    "|  8 | | Send integer with `send` e.g. `10`| \n",
    "|  9 | Receive integer with `recv` | |\n",
    "| 10 | Calculate `10 + 7 = 17` | |\n",
    "| 11 | Send integer with `send` (e.g. `17`) | |\n",
    "| 12 | | Receive integer with `recv` |\n",
    "| 13 | Quit | Quit |\n",
    "\n",
    "---\n",
    "\n",
    "## Step 3: Create client socket with `socket()`\n",
    "\n",
    "Only run this step *after* you have run Step 0, 1, and 2 on the server."
   ]
  },
  {
   "cell_type": "code",
   "execution_count": 1,
   "metadata": {},
   "outputs": [],
   "source": [
    "import socket\n",
    "import struct\n",
    "\n",
    "ADDRESS_FAMILY = socket.AF_UNIX\n",
    "SOCKET_TYPE = socket.SOCK_STREAM\n",
    "ADDRESS = './some_filename.sock'\n",
    "\n",
    "clientsocket = socket.socket(ADDRESS_FAMILY, SOCKET_TYPE)"
   ]
  },
  {
   "cell_type": "markdown",
   "metadata": {},
   "source": [
    "---\n",
    "\n",
    "## Step 4: Connect to server with `connect()`\n",
    "\n",
    "Only run this *after* you have run at least step 3 on the server.\n",
    "\n",
    "\n",
    "> **\"Do I need to worry about timing?\"** Not really, just run your server code first! Once the server has run `bind` and `listen`, it will wait on `accept` until the client connects with `connect`.\n",
    "\n",
    "(The order doesn't actually matter, so long as the server runs first.)"
   ]
  },
  {
   "cell_type": "code",
   "execution_count": 2,
   "metadata": {},
   "outputs": [],
   "source": [
    "clientsocket.connect(ADDRESS)"
   ]
  },
  {
   "cell_type": "markdown",
   "metadata": {},
   "source": [
    "---\n",
    "\n",
    "## Main part: Sending and receiving data\n",
    "\n",
    "Finally, we move to actual data transfering! :) Let's see how this goes.\n",
    "\n",
    "### Step 6: Send integer with `send`\n",
    "\n",
    "Here, we prepare an integer (7) that is 8-bytes-long with little-endian encoding.\n",
    " * We use 8 bytes so we can prepare data as `long long` integers, just as an example :)\n",
    " * \"Little-endian\" is the bit-order, and so long as we keep this consistent,\n",
    "\n",
    "The server will use `recv` to read the bytes we send. First, we have to pack them to bytes, using `struct`. See the `struct` documentation here: https://docs.python.org/3/library/struct.html"
   ]
  },
  {
   "cell_type": "code",
   "execution_count": 3,
   "metadata": {},
   "outputs": [
    {
     "name": "stdout",
     "output_type": "stream",
     "text": [
      "b'\\x07\\x00\\x00\\x00\\x00\\x00\\x00\\x00'\n"
     ]
    },
    {
     "data": {
      "text/plain": [
       "8"
      ]
     },
     "execution_count": 3,
     "metadata": {},
     "output_type": "execute_result"
    }
   ],
   "source": [
    "# Here, we pack the integer '7' into the `long long` format ('q')\n",
    "# with little-endian encoding ('<').\n",
    "x = struct.pack('<q', 7)\n",
    "\n",
    "print(x)\n",
    "clientsocket.send(x)\n",
    "\n",
    "# When we send data, it will print out the number of bytes sent (in this case, 8.)"
   ]
  },
  {
   "cell_type": "markdown",
   "metadata": {},
   "source": [
    "---\n",
    "\n",
    "### Step 8: Send integer with `send`\n",
    "\n",
    "Now, we send another integer, `10` to the socket! It's just the same as above.\n",
    "\n",
    "Note that we see `\\n` as the first integer. This is because the 10th character of ASCII is the newline character, represnted as `\\n`."
   ]
  },
  {
   "cell_type": "code",
   "execution_count": 4,
   "metadata": {},
   "outputs": [
    {
     "name": "stdout",
     "output_type": "stream",
     "text": [
      "b'\\n\\x00\\x00\\x00\\x00\\x00\\x00\\x00'\n"
     ]
    },
    {
     "data": {
      "text/plain": [
       "8"
      ]
     },
     "execution_count": 4,
     "metadata": {},
     "output_type": "execute_result"
    }
   ],
   "source": [
    "y = struct.pack('<q', 10)\n",
    "print(y)\n",
    "clientsocket.send(y)"
   ]
  },
  {
   "cell_type": "markdown",
   "metadata": {},
   "source": [
    "---\n",
    "\n",
    "### Step 12: Receive integer with `recv`\n",
    "\n",
    "\n",
    "Although sockets require you pack and unpack your bytes, the natural blocking mechanism (wherein `accept` and `recv` must wait) solves so many nightmare issues of race-conditions and deadlock that would otherwise need to be solved by implementing complex algorithms."
   ]
  },
  {
   "cell_type": "code",
   "execution_count": 5,
   "metadata": {},
   "outputs": [
    {
     "name": "stdout",
     "output_type": "stream",
     "text": [
      "b'\\x11\\x00\\x00\\x00\\x00\\x00\\x00\\x00'\n"
     ]
    }
   ],
   "source": [
    "result_from_server = clientsocket.recv(8)\n",
    "print(result_from_server)"
   ]
  },
  {
   "cell_type": "code",
   "execution_count": 6,
   "metadata": {},
   "outputs": [
    {
     "name": "stdout",
     "output_type": "stream",
     "text": [
      "17\n"
     ]
    }
   ],
   "source": [
    "result_from_server = struct.unpack('<q', result_from_server)[0]\n",
    "print(result_from_server)"
   ]
  },
  {
   "cell_type": "markdown",
   "metadata": {},
   "source": [
    "### Step 13: The end! We close the connection"
   ]
  },
  {
   "cell_type": "code",
   "execution_count": 7,
   "metadata": {},
   "outputs": [],
   "source": [
    "clientsocket.close()"
   ]
  },
  {
   "cell_type": "code",
   "execution_count": null,
   "metadata": {},
   "outputs": [],
   "source": []
  }
 ],
 "metadata": {
  "kernelspec": {
   "display_name": "Python 3",
   "language": "python",
   "name": "python3"
  },
  "language_info": {
   "codemirror_mode": {
    "name": "ipython",
    "version": 3
   },
   "file_extension": ".py",
   "mimetype": "text/x-python",
   "name": "python",
   "nbconvert_exporter": "python",
   "pygments_lexer": "ipython3",
   "version": "3.7.5"
  }
 },
 "nbformat": 4,
 "nbformat_minor": 4
}
