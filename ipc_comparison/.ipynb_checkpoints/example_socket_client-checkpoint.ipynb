{
 "cells": [
  {
   "cell_type": "markdown",
   "metadata": {},
   "source": [
    "# Example Socket Server: Addition calculator\n",
    "\n",
    "We will implement an extremely simple calculator. This server will wait for two integer inputs from a client, and then return the addition of the two inputs. Let's explore!\n",
    "\n",
    "You may wish to briefly review the following:\n",
    "\n",
    " * Berkeley Socket API functions: https://en.wikipedia.org/wiki/Berkeley_sockets#Socket_API_functions\n",
    " * Python `socket`  https://docs.python.org/3/library/socket.html\n",
    "    * Especially the Example section at the bottom\n",
    " * Python `struct`  https://docs.python.org/3/library/struct.html\n",
    "    * Especially the Format Characters and the Example sections\n",
    "\n",
    "It is highly recommended you read the following HOWTO in full:\n",
    "\n",
    " * Socket Programming HOWTO https://docs.python.org/3/howto/sockets.html\n",
    "\n",
    "Here are the basic steps our application will take:\n",
    "\n",
    "| Step | Server | Client |\n",
    "| -  | - | - |\n",
    "|  1 | Create server socket with `socket()` | Create client socket with `socket()` |\n",
    "|  2 | Bind server socket to address with `bind()` | Connect to server with `connect()`  |\n",
    "|  3 | Enter listening state with `listen()` | Wait for server to respond. |\n",
    "|  4 | Connection found! Etablish connection with `accept()` |  |\n",
    "|  5 | Connection established! | Connection established! |\n",
    "|  6 | | Send integer with `send` e.g. `7`| \n",
    "|  7 | Receive integer with `recv` | |\n",
    "|  8 | | Send integer with `send` e.g. `10`| \n",
    "|  9 | Receive integer with `recv` | |\n",
    "| 10 | Calculate `10 + 7 = 17` | |\n",
    "| 11 | Send integer with `send` (e.g. `17`) | |\n",
    "| 12 | | Receive integer with `recv` |\n",
    "| 13 | Quit | Quit |\n",
    "\n"
   ]
  },
  {
   "cell_type": "code",
   "execution_count": null,
   "metadata": {},
   "outputs": [],
   "source": []
  }
 ],
 "metadata": {
  "kernelspec": {
   "display_name": "Python 3",
   "language": "python",
   "name": "python3"
  },
  "language_info": {
   "codemirror_mode": {
    "name": "ipython",
    "version": 3
   },
   "file_extension": ".py",
   "mimetype": "text/x-python",
   "name": "python",
   "nbconvert_exporter": "python",
   "pygments_lexer": "ipython3",
   "version": "3.7.5"
  }
 },
 "nbformat": 4,
 "nbformat_minor": 4
}
