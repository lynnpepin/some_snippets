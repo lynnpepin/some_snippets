{
 "cells": [
  {
   "cell_type": "markdown",
   "metadata": {},
   "source": [
    "# Example Socket Server: Addition calculator\n",
    "\n",
    "> **TLDR:** This notebook will use `socket` and `struct` to implement a simple calculator application. The client sends integers `x` and `y`, and the server sends back `x + y`.\n",
    "> \n",
    "> I write a summary at each section, titled **TLDR** (too-long-didn't-read)! I find summaries helpful, perhaps you will too :)\n",
    "> \n",
    "> Run these notebooks side-by-side, step-by-step. Each step is noted with a heading.\n",
    "\n",
    "\n",
    "We will implement an extremely simple calculator. A client sends two numbers to a server, which adds them and returns it to the client. This notebook is the **server.** This server will wait for two integer inputs from a client, and then return the addition of the two inputs. Let's explore!\n",
    "\n",
    "You may wish to briefly review the following:\n",
    "\n",
    " * Berkeley Socket API functions: https://en.wikipedia.org/wiki/Berkeley_sockets#Socket_API_functions\n",
    " * Python `socket`  https://docs.python.org/3/library/socket.html\n",
    "    * Especially the Example section at the bottom\n",
    " * Python `struct`  https://docs.python.org/3/library/struct.html\n",
    "    * Especially the Format Characters and the Example sections\n",
    "\n",
    "It is highly recommended you read the following HOWTO in full:\n",
    "\n",
    " * Socket Programming HOWTO https://docs.python.org/3/howto/sockets.html\n",
    "\n",
    "> **Good news!** Because these follow the Berkely Socket API, the skills used here will be very widely transferable! Socket programming in Python is almost identical to socket programming in Fortran, C, Java, Julia, etc.\n",
    "\n",
    "Here are the basic steps our application will take:\n",
    "\n",
    "| Step | Server | Client |\n",
    "| -  | - | - |\n",
    "|  1 | Create server socket with `socket()` |  |\n",
    "|  2 | Bind server socket to address with `bind()` |  |\n",
    "|  3 | Enter listening state with `listen()` | Create client socket with `socket()` |\n",
    "|  4 |  | Connect to server with `connect()` |\n",
    "|  5 | Accept connection with `accept()` | |\n",
    "|  6 | | Send integer with `send` e.g. `7`| \n",
    "|  7 | Receive integer with `recv` | |\n",
    "|  8 | | Send integer with `send` e.g. `10`| \n",
    "|  9 | Receive integer with `recv` | |\n",
    "| 10 | Calculate `10 + 7 = 17` | |\n",
    "| 11 | Send integer with `send` (e.g. `17`) | |\n",
    "| 12 | | Receive integer with `recv` |\n",
    "| 13 | Quit | Quit |\n",
    "\n",
    "\n",
    "TODO: SEQUENCE DIAGRAM\n"
   ]
  },
  {
   "cell_type": "markdown",
   "metadata": {},
   "source": [
    "---\n",
    "\n",
    "## Step 0: Setup\n",
    "\n",
    "> **TLDR:** When setting up sockets, you need a (1) an address family, (2) a socket type, and a (3) address. We use `AF_UNIX` addresses and `SOCK_STREAM` sockets.\n",
    "> \n",
    "> For the (1) address type, use `AF_INET` for most applications, and `socket.AF_UNIX` for inter-process communications on Unix machines. (We use `AF_UNIX`.)\n",
    "> \n",
    "> For (2) socket type, we use the `SOCK_STREAM` socket type (which is TCP-style). You may also see `socket.SOCK_DGRAM` for UDP-style sockets, which do not implement `listen()`.\n",
    "> \n",
    "> For (3) the address, Unix addresses (`AF_UNIX`) are filenames (e.g. `./my_socket.lalala` (but do not involve disk IO), while `AF_INET` addresses are IP addresses, e.g. `127.0.0.1`.\n",
    "\n",
    "Here, we import `socket` and `struct`, and also set up certain constants we use. For a more detailed explanation, [see this tutorial from PyMOTW](https://pymotw.com/3/socket/addressing.html).\n",
    "\n",
    "The **address family** tells the socket what type of address to look for. Here are the three main address types:\n",
    "\n",
    "| Adress family | Description |\n",
    "| - | - |\n",
    "| `AF_INET` | Internet (IPv4) addresses. Most popular socket. |\n",
    "| | When testing `AF_INET` on a local machine, use address `localhost` or `127.0.0.1` |\n",
    "| `AF_INET6` | IPv6 addresses. Will be useful once IPv6 is more widely used! | \n",
    "| `AF_UNIX` | Unix domain socket addresses. These are what we will use. :) |\n",
    "\n",
    "Other address types exist, such as Bluetooth, for ATMs, amateur radio, and old discontinued technologies like AppleTalk or X.25.\n",
    "\n",
    "The **socket type** describes how the socket operates. Here are some socket types:\n",
    "\n",
    "| Socket type | Description |\n",
    "| - | - |\n",
    "| `SOCK_STREAM` | TCP-style connections, implementing `listen()`. These are what we will use. :) |\n",
    "| `SOCK_SEQPACKET` | Similar to `SOCK_STREAM`, but for one-to-many rather than one-to-one connections |\n",
    "| `SOCK_DGRAM` | UDP-style connections. |\n",
    "| `SOCK_RAW` | Raw access to IP. (You may have seen this in a networking class.) |\n",
    "\n",
    "We will also specify an address. With `AF_INET` addresses, we use IP addresses or URLs, e.g. `127.0.0.1`, `localhost`, `www.python.org`, etc. But with `AF_UNIX` addresses, we use filenames, e.g. `some_filename.sock`. Despite how this will appear, data transfered over a socket is done in-memory, and does not involve disk I/O!"
   ]
  },
  {
   "cell_type": "code",
   "execution_count": 1,
   "metadata": {},
   "outputs": [],
   "source": [
    "import socket\n",
    "import struct\n",
    "import os\n",
    "\n",
    "# Address family AF_UNIX chosen since we are doing interprocess communication.\n",
    "# Use AF_INET to try this over internet :)\n",
    "ADDRESS_FAMILY = socket.AF_UNIX\n",
    "\n",
    "# Stream-type sockets used instead of datagram-type sockets\n",
    "SOCKET_TYPE = socket.SOCK_STREAM\n",
    "\n",
    "# The address we'll use here!\n",
    "# Despite being a filename, it does not involve disk IO.\n",
    "ADDRESS = './some_filename.sock'\n",
    "\n",
    "if os.path.exists(ADDRESS):\n",
    "    # Shut down the socket if it already exists at the given address.\n",
    "    os.remove(ADDRESS)"
   ]
  },
  {
   "cell_type": "markdown",
   "metadata": {},
   "source": [
    "---\n",
    "\n",
    "## Beginning steps:\n",
    "\n",
    "Here, we prepare the socket `socket()`, ask the operating system to create it with `bind()`,  and start listening for new connections with `listen()`. We then use `accept()` to connect to our client.\n",
    "\n",
    "### Step 1: Create server socket with `socket()`\n",
    "\n",
    "This step will instantiate a socket in Python. It won't actually create the socket in the operating system yet!"
   ]
  },
  {
   "cell_type": "code",
   "execution_count": 2,
   "metadata": {},
   "outputs": [],
   "source": [
    "serversocket = socket.socket(ADDRESS_FAMILY, SOCKET_TYPE)"
   ]
  },
  {
   "cell_type": "markdown",
   "metadata": {},
   "source": [
    "### Step 2: Bind server socket to address with `bind()`\n",
    "\n",
    "The socket does not exist yet! This step tells the operating system to actually create the socket.\n",
    "\n",
    "We use `bind(ADDRESS)` rather than `bind(ADDRESS, PORT)`. A port is only used when using `AF_INET`. "
   ]
  },
  {
   "cell_type": "code",
   "execution_count": 3,
   "metadata": {},
   "outputs": [],
   "source": [
    "# ... But the socket doesn't exist yet!\n",
    "# After this commend, the socket will be bound, i.e. exist.\n",
    "serversocket.bind(ADDRESS)\n",
    "# No port is needed, since we use Unix address family, rather than Internet :)"
   ]
  },
  {
   "cell_type": "markdown",
   "metadata": {},
   "source": [
    "### Step 3: Enter listening state with `listen()`\n",
    "\n",
    "Now, the server has to listen for an incoming connection on the socket. This is the `SOCK_STREAM` type, where two processes make an exclusive connection with one another. You can think of this as \"TCP style\".\n",
    "\n",
    "Note that `listen()` is not used with `SOCK_DGRAM`, aka \"UDP style\", where data is simply dumped to a socket and read at convenience."
   ]
  },
  {
   "cell_type": "code",
   "execution_count": 4,
   "metadata": {},
   "outputs": [],
   "source": [
    "serversocket.listen()"
   ]
  },
  {
   "cell_type": "markdown",
   "metadata": {},
   "source": [
    "### Step 5: Connection found! Establish connection with accept()\n",
    "\n",
    "Here, `connection` will be a special socket object that we `recv()` (receive) data from and `send()` data with, and `address` will just be a file descriptor. (With `INET` addresses, it will be a tuple with an IP address and a port.)\n",
    "\n",
    "This next cell will wait forever, until the client connects with `connect()`."
   ]
  },
  {
   "cell_type": "code",
   "execution_count": 5,
   "metadata": {},
   "outputs": [],
   "source": [
    "connection, address = serversocket.accept()"
   ]
  },
  {
   "cell_type": "code",
   "execution_count": 6,
   "metadata": {},
   "outputs": [
    {
     "name": "stdout",
     "output_type": "stream",
     "text": [
      "Client address: ``\n",
      "(Should be blank!)\n"
     ]
    }
   ],
   "source": [
    "# let's check the connection!\n",
    "print(f\"Client address: `{address}`\")\n",
    "print(\"(Should be blank!)\")"
   ]
  },
  {
   "cell_type": "markdown",
   "metadata": {},
   "source": [
    "### Step 7: Receive integer with `recv`\n",
    "\n",
    "> **TLDR:** `recv` will pull bytes from the socket, or wait until bytes are available to read.\n",
    "> \n",
    "> If the server cannot read bytes fast enough from the socket, incoming packets will be discarded.\n",
    "\n",
    "Here, `recv` will also *wait* until the client actually has something to send. Note that `connection` is a `socket.socket` instance, and a different one than `serversocket`.\n",
    "\n",
    "When we call `x_from_client = connection.recv(8)`, the server will pull the first `8` bytes waiting in the socket. If no bytes are waiting, it will wait. Note that if the server can not process data faster than the client sends it, the socket might overflow, and packets will be dropped."
   ]
  },
  {
   "cell_type": "code",
   "execution_count": 7,
   "metadata": {},
   "outputs": [],
   "source": [
    "x_from_client = connection.recv(8)"
   ]
  },
  {
   "cell_type": "code",
   "execution_count": 8,
   "metadata": {},
   "outputs": [
    {
     "name": "stdout",
     "output_type": "stream",
     "text": [
      "b'\\x07\\x00\\x00\\x00\\x00\\x00\\x00\\x00'\n"
     ]
    }
   ],
   "source": [
    "print(x_from_client)"
   ]
  },
  {
   "cell_type": "markdown",
   "metadata": {},
   "source": [
    "### Step 9: Receive integer with `recv`"
   ]
  },
  {
   "cell_type": "code",
   "execution_count": 10,
   "metadata": {},
   "outputs": [],
   "source": [
    "y_from_client = connection.recv(1024)"
   ]
  },
  {
   "cell_type": "code",
   "execution_count": 11,
   "metadata": {},
   "outputs": [
    {
     "name": "stdout",
     "output_type": "stream",
     "text": [
      "b'\\n\\x00\\x00\\x00\\x00\\x00\\x00\\x00'\n"
     ]
    }
   ],
   "source": [
    "print(y_from_client)"
   ]
  },
  {
   "cell_type": "markdown",
   "metadata": {},
   "source": [
    "### Step 10: Calculate the sum of the two integers"
   ]
  },
  {
   "cell_type": "markdown",
   "metadata": {},
   "source": [
    "### Step 11: Send integer with `send`"
   ]
  },
  {
   "cell_type": "code",
   "execution_count": null,
   "metadata": {},
   "outputs": [],
   "source": []
  },
  {
   "cell_type": "markdown",
   "metadata": {},
   "source": [
    "### The end!"
   ]
  },
  {
   "cell_type": "code",
   "execution_count": null,
   "metadata": {},
   "outputs": [],
   "source": []
  }
 ],
 "metadata": {
  "kernelspec": {
   "display_name": "Python 3",
   "language": "python",
   "name": "python3"
  },
  "language_info": {
   "codemirror_mode": {
    "name": "ipython",
    "version": 3
   },
   "file_extension": ".py",
   "mimetype": "text/x-python",
   "name": "python",
   "nbconvert_exporter": "python",
   "pygments_lexer": "ipython3",
   "version": "3.7.5"
  }
 },
 "nbformat": 4,
 "nbformat_minor": 4
}
